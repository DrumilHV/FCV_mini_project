{
 "cells": [
  {
   "cell_type": "code",
   "execution_count": 2,
   "id": "21100e60",
   "metadata": {},
   "outputs": [],
   "source": [
    "import os\n",
    "import math\n",
    "import glob\n",
    "import cv2\n",
    "from collections import deque\n",
    "import numpy as np\n",
    "import matplotlib.pyplot as plt\n",
    "import matplotlib.image as mpimg\n",
    "from matplotlib import cm\n",
    "from moviepy.editor import VideoFileClip\n",
    "import time\n",
    "from sklearn.svm import LinearSVC\n",
    "from sklearn.preprocessing import StandardScaler\n",
    "from sklearn.model_selection import train_test_split\n",
    "from skimage.feature import hog\n",
    "from scipy.ndimage.measurements import label\n",
    "import pickle"
   ]
  },
  {
   "cell_type": "code",
   "execution_count": 3,
   "id": "aaa7088f",
   "metadata": {},
   "outputs": [],
   "source": [
    "def extract_hog_features(image):\n",
    "    win_size = (64, 64)\n",
    "    block_size = (16, 16)\n",
    "    block_stride = (8, 8)\n",
    "    cell_size = (8, 8)\n",
    "    nbins = 9\n",
    "\n",
    "    hog = cv2.HOGDescriptor(win_size, block_size, block_stride, cell_size, nbins)\n",
    "    features = hog.compute(image)\n",
    "    return features.flatten()\n",
    "\n",
    "# X = []\n",
    "# y = []\n",
    "\n",
    "# # Assuming you have a 'dataset' directory with 'vehicles' and 'non-vehicles' subdirectories\n",
    "# base_dir = 'dataset'\n",
    "\n",
    "# # Define labels for vehicles and non-vehicles\n",
    "# vehicle_label = 'vehicle'\n",
    "# non_vehicle_label = 'non-vehicle'\n",
    "\n",
    "# # Iterate through the subdirectories under 'vehicles' and 'non-vehicles'\n",
    "# for category in [vehicle_label, non_vehicle_label]:\n",
    "#     category_dir = os.path.join(base_dir, category)\n",
    "    \n",
    "#     for root, dirs, files in os.walk(category_dir):\n",
    "        \n",
    "#         for filename in files:\n",
    "#             print(filename)\n",
    "#             break\n",
    "#             if filename.endswith('.jpg') or filename.endswith('.png'):\n",
    "#                 image_path = os.path.join(root, filename)\n",
    "#                 image = cv2.imread(image_path)\n",
    "#                 if image is not None:\n",
    "#                     features = extract_hog_features(image)\n",
    "#                     X.append(features)\n",
    "#                     y.append(category)\n",
    "\n",
    "# print(X)\n"
   ]
  },
  {
   "cell_type": "code",
   "execution_count": 4,
   "id": "5444ef52",
   "metadata": {},
   "outputs": [],
   "source": [
    "test_images = np.array([plt.imread(i) for i in glob.glob('./test_images/*.jpg')])\n",
    "\n",
    "car_images = []\n",
    "non_car_images = []\n",
    "\n",
    "for root, dirs, files in os.walk('./dataset/vehicles/'):\n",
    "    for file in files:\n",
    "        if file.endswith('.png'):\n",
    "            car_images.append(os.path.join(root, file))\n",
    "            \n",
    "for root, dirs, files in os.walk('./dataset/non-vehicles/'):\n",
    "    for file in files:\n",
    "        if file.endswith('.png'):\n",
    "            non_car_images.append(os.path.join(root, file))"
   ]
  },
  {
   "cell_type": "code",
   "execution_count": 5,
   "id": "7670502d",
   "metadata": {},
   "outputs": [],
   "source": [
    "X = []\n",
    "y = []\n",
    "for img in car_images:\n",
    "    img = cv2.imread(img)\n",
    "    X.append(extract_hog_features(img))\n",
    "    y.append(1)\n",
    "    \n",
    "for img in non_car_images:\n",
    "    img = cv2.imread(img)\n",
    "    X.append(extract_hog_features(img))\n",
    "    y.append(0)\n",
    "# print(X,\"\\n\", y)\n",
    "    "
   ]
  },
  {
   "cell_type": "code",
   "execution_count": 6,
   "id": "761c2964",
   "metadata": {},
   "outputs": [
    {
     "data": {
      "text/plain": [
       "SVC(kernel='linear')"
      ]
     },
     "execution_count": 6,
     "metadata": {},
     "output_type": "execute_result"
    }
   ],
   "source": [
    "from sklearn import svm\n",
    "from sklearn.model_selection import train_test_split\n",
    "\n",
    "X_train, X_test, y_train, y_test = train_test_split(X, y, test_size=0.2, random_state=42)\n",
    "\n",
    "clf = svm.SVC(kernel='linear')\n",
    "clf.fit(X_train, y_train)"
   ]
  },
  {
   "cell_type": "code",
   "execution_count": 7,
   "id": "f3108550",
   "metadata": {},
   "outputs": [
    {
     "name": "stdout",
     "output_type": "stream",
     "text": [
      "SVC(kernel='linear')\n"
     ]
    }
   ],
   "source": [
    "print(clf)"
   ]
  },
  {
   "cell_type": "code",
   "execution_count": 8,
   "id": "c9d86e85",
   "metadata": {},
   "outputs": [],
   "source": [
    "video_capture = cv2.VideoCapture('test_video.mp4')\n",
    "\n",
    "while video_capture.isOpened():\n",
    "    ret, frame = video_capture.read()\n",
    "#     print(ret, frame)\n",
    "    if not ret:\n",
    "        break\n",
    "# frame = cv2.resize(frame, (640, 480))  # Resize the frame to a fixed size\n",
    "# gray = cv2.cvtColor(frame, cv2.COLOR_BGR2GRAY) \n",
    "#     # Process the frame (resize, grayscale, etc.)\n",
    "\n",
    "#     # Apply sliding window technique and extract HOG features for each window\n",
    "#     # In this part, you loop over different windows in the frame and extract HOG features for each window.\n",
    "#     # The exact code for this may vary depending on your specific implementation.\n",
    "\n",
    "#     # Use the trained SVM classifier to classify each window\n",
    "#     # You can use the `clf.predict()` method to classify each window, like this:\n",
    "\n",
    "#     for window in windows:\n",
    "#         hog_features = extract_hog_features(window)\n",
    "#         prediction = clf.predict([hog_features])\n",
    "\n",
    "#         if prediction == 1:  # 1 indicates the presence of a car\n",
    "#             # Here, you've detected a car in the current window.\n",
    "#             # You can draw a bounding box around the window or perform further actions to indicate the car's presence in the frame.\n",
    "#             # For example, you can draw a bounding box using OpenCV's cv2.rectangle() function.\n",
    "#             x, y, w, h = window_coordinates  # Define these coordinates based on your sliding window approach.\n",
    "#             cv2.rectangle(frame, (x, y), (x + w, y + h), (0, 255, 0), 2)  # Draw a green bounding box around the detected car.\n",
    "\n",
    "    window_size = (64, 64)  # Define the size of your sliding window\n",
    "    step_size = 16  # Define the step size for window movement\n",
    "\n",
    "    for y in range(0, frame.shape[0] - window_size[1], step_size):\n",
    "        for x in range(0, frame.shape[1] - window_size[0], step_size):\n",
    "            window = frame[y:y+window_size[1], x:x+window_size[0]]  # Extract the window\n",
    "            # Extract HOG features for this window\n",
    "            hog_features = extract_hog_features(window)\n",
    "            # Use the SVM classifier to predict if it contains a car\n",
    "            prediction = clf.predict([hog_features])\n",
    "            if prediction == 1:\n",
    "                # You can draw a bounding box to visualize the detected car\n",
    "                cv2.rectangle(frame, (x, y), (x+window_size[0], y+window_size[1]), (0, 255, 0), 2)\n",
    "\n",
    "        cv2.imshow('Car Detection', frame)\n",
    "\n",
    "        if cv2.waitKey(1) & 0xFF == ord('q'):\n",
    "            break\n",
    "\n",
    "video_capture.release()\n",
    "cv2.destroyAllWindows()\n"
   ]
  },
  {
   "cell_type": "code",
   "execution_count": 9,
   "id": "56148495",
   "metadata": {},
   "outputs": [],
   "source": []
  },
  {
   "cell_type": "code",
   "execution_count": 10,
   "id": "d208aea5",
   "metadata": {},
   "outputs": [
    {
     "name": "stdout",
     "output_type": "stream",
     "text": [
      "4.8.1\n"
     ]
    }
   ],
   "source": []
  },
  {
   "cell_type": "code",
   "execution_count": 11,
   "id": "abac2b8d",
   "metadata": {},
   "outputs": [],
   "source": []
  }
 ],
 "metadata": {
  "kernelspec": {
   "display_name": "Python 3",
   "language": "python",
   "name": "python3"
  },
  "language_info": {
   "codemirror_mode": {
    "name": "ipython",
    "version": 3
   },
   "file_extension": ".py",
   "mimetype": "text/x-python",
   "name": "python",
   "nbconvert_exporter": "python",
   "pygments_lexer": "ipython3",
   "version": "3.7.10"
  }
 },
 "nbformat": 4,
 "nbformat_minor": 5
}
